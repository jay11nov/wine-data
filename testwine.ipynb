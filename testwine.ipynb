{
  "cells": [
    {
      "cell_type": "code",
      "source": [
        "import urllib.request\r\n",
        "import json\r\n",
        "import os\r\n",
        "import ssl\r\n",
        "\r\n",
        "def allowSelfSignedHttps(allowed):\r\n",
        "    # bypass the server certificate verification on client side\r\n",
        "    if allowed and not os.environ.get('PYTHONHTTPSVERIFY', '') and getattr(ssl, '_create_unverified_context', None):\r\n",
        "        ssl._create_default_https_context = ssl._create_unverified_context\r\n",
        "\r\n",
        "allowSelfSignedHttps(True) # this line is needed if you use self-signed certificate in your scoring service.\r\n",
        "\r\n",
        "# Request data goes here\r\n",
        "data = {\r\n",
        "    \"Inputs\": {\r\n",
        "        \"WebServiceInput0\":\r\n",
        "        [\r\n",
        "            {\r\n",
        "                'fixed acidity': \"7.4\",\r\n",
        "                'volatile acidity': \"0.7\",\r\n",
        "                'citric acid': \"0\",\r\n",
        "                'residual sugar': \"1.9\",\r\n",
        "                'chlorides': \"0.076\",\r\n",
        "                'free sulfur dioxide': \"11\",\r\n",
        "                'total sulfur dioxide': \"34\",\r\n",
        "                'density': \"0.9978\",\r\n",
        "                'pH': \"3.51\",\r\n",
        "                'sulphates': \"0.56\",\r\n",
        "                'alcohol': \"9.4\",\r\n",
        "                'quality': \"5\",\r\n",
        "            },\r\n",
        "        ],\r\n",
        "    },\r\n",
        "    \"GlobalParameters\": {\r\n",
        "    }\r\n",
        "}\r\n",
        "\r\n",
        "body = str.encode(json.dumps(data))\r\n",
        "\r\n",
        "url = 'http://ca27f1b0-370c-4dfb-952d-e6fab484d2dc.centralindia.azurecontainer.io/score'\r\n",
        "api_key = '2ZGryeDDjfqhPMuiZbhbWuqWD21tg077' # Replace this with the API key for the web service\r\n",
        "headers = {'Content-Type':'application/json', 'Authorization':('Bearer '+ api_key)}\r\n",
        "\r\n",
        "req = urllib.request.Request(url, body, headers)\r\n",
        "\r\n",
        "try:\r\n",
        "    response = urllib.request.urlopen(req)\r\n",
        "\r\n",
        "    result = response.read()\r\n",
        "    print(result)\r\n",
        "except urllib.error.HTTPError as error:\r\n",
        "    print(\"The request failed with status code: \" + str(error.code))\r\n",
        "\r\n",
        "    # Print the headers - they include the requert ID and the timestamp, which are useful for debugging the failure\r\n",
        "    print(error.info())\r\n",
        "    print(json.loads(error.read().decode(\"utf8\", 'ignore')))"
      ],
      "outputs": [
        {
          "output_type": "stream",
          "name": "stdout",
          "text": "b'{\"Results\": {\"WebServiceOutput0\": [{\"fixed acidity\": 0.24778761061946908, \"volatile acidity\": 0.39726027397260266, \"citric acid\": 0.0, \"residual sugar\": 0.0684931506849315, \"chlorides\": 0.10684474123539231, \"free sulfur dioxide\": 0.14084507042253522, \"total sulfur dioxide\": 0.0989399293286219, \"density\": 0.567547723935391, \"pH\": 0.606299212598425, \"sulphates\": 0.13772455089820365, \"alcohol\": 0.15384615384615397, \"quality\": 0.3999999999999999, \"Assignments\": 0, \"DistancesToClusterCenter no.0\": 0.30454189655085584, \"DistancesToClusterCenter no.1\": 0.4638601482061603, \"DistancesToClusterCenter no.2\": 0.7332499649919468}]}}'\n"
        }
      ],
      "execution_count": 3,
      "metadata": {
        "jupyter": {
          "source_hidden": false,
          "outputs_hidden": false
        },
        "nteract": {
          "transient": {
            "deleting": false
          }
        },
        "gather": {
          "logged": 1644137384796
        }
      }
    }
  ],
  "metadata": {
    "kernelspec": {
      "name": "python3-azureml",
      "language": "python",
      "display_name": "Python 3.6 - AzureML"
    },
    "language_info": {
      "name": "python",
      "version": "3.6.9",
      "mimetype": "text/x-python",
      "codemirror_mode": {
        "name": "ipython",
        "version": 3
      },
      "pygments_lexer": "ipython3",
      "nbconvert_exporter": "python",
      "file_extension": ".py"
    },
    "kernel_info": {
      "name": "python3-azureml"
    },
    "nteract": {
      "version": "nteract-front-end@1.0.0"
    }
  },
  "nbformat": 4,
  "nbformat_minor": 2
}